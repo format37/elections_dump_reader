{
 "cells": [
  {
   "cell_type": "code",
   "execution_count": 75,
   "metadata": {},
   "outputs": [],
   "source": [
    "import psycopg2\n",
    "import pandas as pd"
   ]
  },
  {
   "cell_type": "code",
   "execution_count": 64,
   "metadata": {},
   "outputs": [],
   "source": [
    "def connect_to_db(dbname):\n",
    "    \"\"\"\n",
    "    connect to PostgreSQL server, located in docker container\n",
    "    \"\"\"\n",
    "    conn = psycopg2.connect(\n",
    "        host='192.168.1.23',\n",
    "        port=5432,\n",
    "        dbname=dbname,\n",
    "        user='postgres',\n",
    "        password='ez8KevmTEY5W7bhQ'\n",
    "    )\n",
    "    return conn"
   ]
  },
  {
   "cell_type": "markdown",
   "metadata": {},
   "source": [
    "### check psql connection"
   ]
  },
  {
   "cell_type": "code",
   "execution_count": 65,
   "metadata": {},
   "outputs": [
    {
     "name": "stdout",
     "output_type": "stream",
     "text": [
      "    postgres\n",
      "    observer\n",
      "    template1\n",
      "    template0\n"
     ]
    }
   ],
   "source": [
    "conn = connect_to_db('postgres')\n",
    "cur = conn.cursor()\n",
    "cur.execute('SELECT datname from pg_database')\n",
    "rows = cur.fetchall()\n",
    "for row in rows:\n",
    "    print(\"   \", row[0])"
   ]
  },
  {
   "cell_type": "markdown",
   "metadata": {},
   "source": [
    "### show observer tables"
   ]
  },
  {
   "cell_type": "code",
   "execution_count": 73,
   "metadata": {},
   "outputs": [
    {
     "name": "stdout",
     "output_type": "stream",
     "text": [
      "('blocks',)\n",
      "('decrypted_ballots',)\n",
      "('transactions',)\n"
     ]
    }
   ],
   "source": [
    "conn = connect_to_db('observer')\n",
    "cur = conn.cursor()\n",
    "cur.execute(\"\"\"\n",
    "    SELECT table_name\n",
    "    FROM information_schema.tables\n",
    "    WHERE table_schema='public'\n",
    "    AND table_type='BASE TABLE';\n",
    "\"\"\")\n",
    "for table in cur.fetchall():\n",
    "    print(table)"
   ]
  },
  {
   "cell_type": "markdown",
   "metadata": {},
   "source": [
    "### load transactions"
   ]
  },
  {
   "cell_type": "code",
   "execution_count": 77,
   "metadata": {},
   "outputs": [
    {
     "data": {
      "text/html": [
       "<div>\n",
       "<style scoped>\n",
       "    .dataframe tbody tr th:only-of-type {\n",
       "        vertical-align: middle;\n",
       "    }\n",
       "\n",
       "    .dataframe tbody tr th {\n",
       "        vertical-align: top;\n",
       "    }\n",
       "\n",
       "    .dataframe thead th {\n",
       "        text-align: right;\n",
       "    }\n",
       "</style>\n",
       "<table border=\"1\" class=\"dataframe\">\n",
       "  <thead>\n",
       "    <tr style=\"text-align: right;\">\n",
       "      <th></th>\n",
       "      <th>hash</th>\n",
       "      <th>message</th>\n",
       "      <th>block_height</th>\n",
       "      <th>position_in_block</th>\n",
       "      <th>location_proof</th>\n",
       "      <th>instance_id</th>\n",
       "      <th>method_id</th>\n",
       "      <th>status</th>\n",
       "      <th>datetime</th>\n",
       "      <th>author</th>\n",
       "      <th>payload</th>\n",
       "      <th>signature</th>\n",
       "      <th>internal_error</th>\n",
       "    </tr>\n",
       "  </thead>\n",
       "  <tbody>\n",
       "    <tr>\n",
       "      <th>0</th>\n",
       "      <td>b7715233e2868026c47ca7fb64c9c5a2b707904f3c85dc...</td>\n",
       "      <td>0a530a510a021002124b1249124708e90712420a403939...</td>\n",
       "      <td>24</td>\n",
       "      <td>0</td>\n",
       "      <td>{'proof': [], 'entries': [[0, 'b7715233e286802...</td>\n",
       "      <td>0</td>\n",
       "      <td>2</td>\n",
       "      <td>{'type': 'success'}</td>\n",
       "      <td>2021-09-17 01:16:47.330000+00:00</td>\n",
       "      <td>None</td>\n",
       "      <td>None</td>\n",
       "      <td>None</td>\n",
       "      <td>None</td>\n",
       "    </tr>\n",
       "    <tr>\n",
       "      <th>1</th>\n",
       "      <td>ea067e1ad71565daff55627e4b35340620d53d64482047...</td>\n",
       "      <td>0ad0520acd520a0508e907100012c3520a240a220a20ea...</td>\n",
       "      <td>13716</td>\n",
       "      <td>0</td>\n",
       "      <td>{'proof': [], 'entries': [[0, 'ea067e1ad71565d...</td>\n",
       "      <td>1001</td>\n",
       "      <td>0</td>\n",
       "      <td>{'type': 'success'}</td>\n",
       "      <td>2021-09-17 02:05:49.947000+00:00</td>\n",
       "      <td>9973552fc261bfd069e9a464fbed14d21c66510186b447...</td>\n",
       "      <td>{'crypto_system': {'public_key': 'ea0013a39b4f...</td>\n",
       "      <td>f10a1bdc18abe7e9ab413df37b1bd764caa259959aba4c...</td>\n",
       "      <td>None</td>\n",
       "    </tr>\n",
       "    <tr>\n",
       "      <th>2</th>\n",
       "      <td>0217ba918edf0acfc7e06fcb9b352c07964931113a2507...</td>\n",
       "      <td>0aae3e0aab3e0a0508e907100112a13e0a406561303637...</td>\n",
       "      <td>15386</td>\n",
       "      <td>0</td>\n",
       "      <td>{'proof': [{'index': 1, 'height': 1, 'hash': '...</td>\n",
       "      <td>1001</td>\n",
       "      <td>1</td>\n",
       "      <td>{'type': 'success'}</td>\n",
       "      <td>2021-09-17 02:11:49.649000+00:00</td>\n",
       "      <td>9973552fc261bfd069e9a464fbed14d21c66510186b447...</td>\n",
       "      <td>{'voting_id': 'ea067e1ad71565daff55627e4b35340...</td>\n",
       "      <td>9bc871961ec901e48f6293a777041a6112db789d94d3ae...</td>\n",
       "      <td>None</td>\n",
       "    </tr>\n",
       "  </tbody>\n",
       "</table>\n",
       "</div>"
      ],
      "text/plain": [
       "                                                hash  \\\n",
       "0  b7715233e2868026c47ca7fb64c9c5a2b707904f3c85dc...   \n",
       "1  ea067e1ad71565daff55627e4b35340620d53d64482047...   \n",
       "2  0217ba918edf0acfc7e06fcb9b352c07964931113a2507...   \n",
       "\n",
       "                                             message  block_height  \\\n",
       "0  0a530a510a021002124b1249124708e90712420a403939...            24   \n",
       "1  0ad0520acd520a0508e907100012c3520a240a220a20ea...         13716   \n",
       "2  0aae3e0aab3e0a0508e907100112a13e0a406561303637...         15386   \n",
       "\n",
       "   position_in_block                                     location_proof  \\\n",
       "0                  0  {'proof': [], 'entries': [[0, 'b7715233e286802...   \n",
       "1                  0  {'proof': [], 'entries': [[0, 'ea067e1ad71565d...   \n",
       "2                  0  {'proof': [{'index': 1, 'height': 1, 'hash': '...   \n",
       "\n",
       "   instance_id  method_id               status  \\\n",
       "0            0          2  {'type': 'success'}   \n",
       "1         1001          0  {'type': 'success'}   \n",
       "2         1001          1  {'type': 'success'}   \n",
       "\n",
       "                          datetime  \\\n",
       "0 2021-09-17 01:16:47.330000+00:00   \n",
       "1 2021-09-17 02:05:49.947000+00:00   \n",
       "2 2021-09-17 02:11:49.649000+00:00   \n",
       "\n",
       "                                              author  \\\n",
       "0                                               None   \n",
       "1  9973552fc261bfd069e9a464fbed14d21c66510186b447...   \n",
       "2  9973552fc261bfd069e9a464fbed14d21c66510186b447...   \n",
       "\n",
       "                                             payload  \\\n",
       "0                                               None   \n",
       "1  {'crypto_system': {'public_key': 'ea0013a39b4f...   \n",
       "2  {'voting_id': 'ea067e1ad71565daff55627e4b35340...   \n",
       "\n",
       "                                           signature internal_error  \n",
       "0                                               None           None  \n",
       "1  f10a1bdc18abe7e9ab413df37b1bd764caa259959aba4c...           None  \n",
       "2  9bc871961ec901e48f6293a777041a6112db789d94d3ae...           None  "
      ]
     },
     "execution_count": 77,
     "metadata": {},
     "output_type": "execute_result"
    }
   ],
   "source": [
    "conn = connect_to_db('observer')\n",
    "query = \"select * from transactions limit 3;\"\n",
    "df = pd.read_sql(query, conn)\n",
    "df"
   ]
  },
  {
   "cell_type": "markdown",
   "metadata": {},
   "source": [
    "### load blocks"
   ]
  },
  {
   "cell_type": "code",
   "execution_count": 79,
   "metadata": {},
   "outputs": [
    {
     "data": {
      "text/html": [
       "<div>\n",
       "<style scoped>\n",
       "    .dataframe tbody tr th:only-of-type {\n",
       "        vertical-align: middle;\n",
       "    }\n",
       "\n",
       "    .dataframe tbody tr th {\n",
       "        vertical-align: top;\n",
       "    }\n",
       "\n",
       "    .dataframe thead th {\n",
       "        text-align: right;\n",
       "    }\n",
       "</style>\n",
       "<table border=\"1\" class=\"dataframe\">\n",
       "  <thead>\n",
       "    <tr style=\"text-align: right;\">\n",
       "      <th></th>\n",
       "      <th>height</th>\n",
       "      <th>tx_count</th>\n",
       "      <th>prev_hash</th>\n",
       "      <th>tx_hash</th>\n",
       "      <th>state_hash</th>\n",
       "      <th>error_hash</th>\n",
       "      <th>additional_headers</th>\n",
       "      <th>precommits</th>\n",
       "      <th>txs</th>\n",
       "      <th>datetime</th>\n",
       "    </tr>\n",
       "  </thead>\n",
       "  <tbody>\n",
       "    <tr>\n",
       "      <th>0</th>\n",
       "      <td>1</td>\n",
       "      <td>0</td>\n",
       "      <td>b13e354c3ca8e3584ab280aa66ac7ea3504b0863c7a50b...</td>\n",
       "      <td>c6c0aa07f27493d2f2e5cff56c890a353a20086d6c25ec...</td>\n",
       "      <td>717c29d90a021b2cf427b0da0f6cca3e627aad15f309da...</td>\n",
       "      <td>7324b5c72b51bb5d4c180f1109cfd347b6047388214584...</td>\n",
       "      <td>{'headers': {'epoch': [1, 0, 0, 0, 0, 0, 0, 0]...</td>\n",
       "      <td>[0a5b12591001180522220a201fb19604ab71ac6be6ce2...</td>\n",
       "      <td>[]</td>\n",
       "      <td>2021-09-17 01:16:42.023000+00:00</td>\n",
       "    </tr>\n",
       "    <tr>\n",
       "      <th>1</th>\n",
       "      <td>2</td>\n",
       "      <td>0</td>\n",
       "      <td>6fac4d4af83fe214e19060e384da239826b7ad5cbc985e...</td>\n",
       "      <td>c6c0aa07f27493d2f2e5cff56c890a353a20086d6c25ec...</td>\n",
       "      <td>717c29d90a021b2cf427b0da0f6cca3e627aad15f309da...</td>\n",
       "      <td>7324b5c72b51bb5d4c180f1109cfd347b6047388214584...</td>\n",
       "      <td>{'headers': {'epoch': [2, 0, 0, 0, 0, 0, 0, 0]...</td>\n",
       "      <td>[0a5b12591002180122220a202b15f5a55f7987dd2d31b...</td>\n",
       "      <td>[]</td>\n",
       "      <td>2021-09-17 01:16:42.244000+00:00</td>\n",
       "    </tr>\n",
       "    <tr>\n",
       "      <th>2</th>\n",
       "      <td>3</td>\n",
       "      <td>0</td>\n",
       "      <td>bf330b3cba2d46ba881e6ba5cb7c8f46b18d23db357c30...</td>\n",
       "      <td>c6c0aa07f27493d2f2e5cff56c890a353a20086d6c25ec...</td>\n",
       "      <td>717c29d90a021b2cf427b0da0f6cca3e627aad15f309da...</td>\n",
       "      <td>7324b5c72b51bb5d4c180f1109cfd347b6047388214584...</td>\n",
       "      <td>{'headers': {'epoch': [3, 0, 0, 0, 0, 0, 0, 0]...</td>\n",
       "      <td>[0a5c125a1003180122220a208aee334461f7a8a894db6...</td>\n",
       "      <td>[]</td>\n",
       "      <td>2021-09-17 01:16:42.449000+00:00</td>\n",
       "    </tr>\n",
       "  </tbody>\n",
       "</table>\n",
       "</div>"
      ],
      "text/plain": [
       "   height  tx_count                                          prev_hash  \\\n",
       "0       1         0  b13e354c3ca8e3584ab280aa66ac7ea3504b0863c7a50b...   \n",
       "1       2         0  6fac4d4af83fe214e19060e384da239826b7ad5cbc985e...   \n",
       "2       3         0  bf330b3cba2d46ba881e6ba5cb7c8f46b18d23db357c30...   \n",
       "\n",
       "                                             tx_hash  \\\n",
       "0  c6c0aa07f27493d2f2e5cff56c890a353a20086d6c25ec...   \n",
       "1  c6c0aa07f27493d2f2e5cff56c890a353a20086d6c25ec...   \n",
       "2  c6c0aa07f27493d2f2e5cff56c890a353a20086d6c25ec...   \n",
       "\n",
       "                                          state_hash  \\\n",
       "0  717c29d90a021b2cf427b0da0f6cca3e627aad15f309da...   \n",
       "1  717c29d90a021b2cf427b0da0f6cca3e627aad15f309da...   \n",
       "2  717c29d90a021b2cf427b0da0f6cca3e627aad15f309da...   \n",
       "\n",
       "                                          error_hash  \\\n",
       "0  7324b5c72b51bb5d4c180f1109cfd347b6047388214584...   \n",
       "1  7324b5c72b51bb5d4c180f1109cfd347b6047388214584...   \n",
       "2  7324b5c72b51bb5d4c180f1109cfd347b6047388214584...   \n",
       "\n",
       "                                  additional_headers  \\\n",
       "0  {'headers': {'epoch': [1, 0, 0, 0, 0, 0, 0, 0]...   \n",
       "1  {'headers': {'epoch': [2, 0, 0, 0, 0, 0, 0, 0]...   \n",
       "2  {'headers': {'epoch': [3, 0, 0, 0, 0, 0, 0, 0]...   \n",
       "\n",
       "                                          precommits txs  \\\n",
       "0  [0a5b12591001180522220a201fb19604ab71ac6be6ce2...  []   \n",
       "1  [0a5b12591002180122220a202b15f5a55f7987dd2d31b...  []   \n",
       "2  [0a5c125a1003180122220a208aee334461f7a8a894db6...  []   \n",
       "\n",
       "                          datetime  \n",
       "0 2021-09-17 01:16:42.023000+00:00  \n",
       "1 2021-09-17 01:16:42.244000+00:00  \n",
       "2 2021-09-17 01:16:42.449000+00:00  "
      ]
     },
     "execution_count": 79,
     "metadata": {},
     "output_type": "execute_result"
    }
   ],
   "source": [
    "conn = connect_to_db('observer')\n",
    "query = \"select * from blocks limit 3;\"\n",
    "df = pd.read_sql(query, conn)\n",
    "df"
   ]
  },
  {
   "cell_type": "markdown",
   "metadata": {},
   "source": [
    "### decrypted_ballots"
   ]
  },
  {
   "cell_type": "code",
   "execution_count": 80,
   "metadata": {},
   "outputs": [
    {
     "data": {
      "text/html": [
       "<div>\n",
       "<style scoped>\n",
       "    .dataframe tbody tr th:only-of-type {\n",
       "        vertical-align: middle;\n",
       "    }\n",
       "\n",
       "    .dataframe tbody tr th {\n",
       "        vertical-align: top;\n",
       "    }\n",
       "\n",
       "    .dataframe thead th {\n",
       "        text-align: right;\n",
       "    }\n",
       "</style>\n",
       "<table border=\"1\" class=\"dataframe\">\n",
       "  <thead>\n",
       "    <tr style=\"text-align: right;\">\n",
       "      <th></th>\n",
       "      <th>store_tx_hash</th>\n",
       "      <th>decrypt_tx_hash</th>\n",
       "      <th>decrypted_choice</th>\n",
       "      <th>status</th>\n",
       "    </tr>\n",
       "  </thead>\n",
       "  <tbody>\n",
       "    <tr>\n",
       "      <th>0</th>\n",
       "      <td>f468c68d2abda5090219f0f0b8d97d6b9ef6c06f487861...</td>\n",
       "      <td>06bb34e2dc35368beea4ad58812d212b1c6615d4400ef0...</td>\n",
       "      <td>[162832179]</td>\n",
       "      <td>Valid</td>\n",
       "    </tr>\n",
       "    <tr>\n",
       "      <th>1</th>\n",
       "      <td>a7ce310d0d84e955a7933ebcb55d80e4f1cb8e87eec53a...</td>\n",
       "      <td>083c01d59e8b36f1513fe2a1e71e6fe45d85735a3802dc...</td>\n",
       "      <td>[153770437]</td>\n",
       "      <td>Valid</td>\n",
       "    </tr>\n",
       "    <tr>\n",
       "      <th>2</th>\n",
       "      <td>cf62c0246568581758ae257da95a31652d5267cca67034...</td>\n",
       "      <td>0ae8886a2b6018551098160c74e7d58f06699eaf835a09...</td>\n",
       "      <td>[191070849]</td>\n",
       "      <td>Valid</td>\n",
       "    </tr>\n",
       "  </tbody>\n",
       "</table>\n",
       "</div>"
      ],
      "text/plain": [
       "                                       store_tx_hash  \\\n",
       "0  f468c68d2abda5090219f0f0b8d97d6b9ef6c06f487861...   \n",
       "1  a7ce310d0d84e955a7933ebcb55d80e4f1cb8e87eec53a...   \n",
       "2  cf62c0246568581758ae257da95a31652d5267cca67034...   \n",
       "\n",
       "                                     decrypt_tx_hash decrypted_choice status  \n",
       "0  06bb34e2dc35368beea4ad58812d212b1c6615d4400ef0...      [162832179]  Valid  \n",
       "1  083c01d59e8b36f1513fe2a1e71e6fe45d85735a3802dc...      [153770437]  Valid  \n",
       "2  0ae8886a2b6018551098160c74e7d58f06699eaf835a09...      [191070849]  Valid  "
      ]
     },
     "execution_count": 80,
     "metadata": {},
     "output_type": "execute_result"
    }
   ],
   "source": [
    "conn = connect_to_db('observer')\n",
    "query = \"select * from decrypted_ballots limit 3;\"\n",
    "df = pd.read_sql(query, conn)\n",
    "df"
   ]
  }
 ],
 "metadata": {
  "kernelspec": {
   "display_name": "Python 3",
   "language": "python",
   "name": "python3"
  },
  "language_info": {
   "codemirror_mode": {
    "name": "ipython",
    "version": 3
   },
   "file_extension": ".py",
   "mimetype": "text/x-python",
   "name": "python",
   "nbconvert_exporter": "python",
   "pygments_lexer": "ipython3",
   "version": "3.7.3"
  }
 },
 "nbformat": 4,
 "nbformat_minor": 4
}
